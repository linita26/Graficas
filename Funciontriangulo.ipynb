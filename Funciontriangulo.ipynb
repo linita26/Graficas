{
 "cells": [
  {
   "cell_type": "code",
   "execution_count": null,
   "metadata": {
    "collapsed": true
   },
   "outputs": [],
   "source": []
  },
  {
   "cell_type": "code",
   "execution_count": 5,
   "metadata": {
    "collapsed": false
   },
   "outputs": [
    {
     "data": {
      "image/png": "[encoded data removed]",
      "text/plain": [
       "<matplotlib.figure.Figure at 0x84839b0>"
      ]
     },
     "metadata": {},
     "output_type": "display_data"
    }
   ],
   "source": [
    "import numpy as np\n",
    "import matplotlib.pyplot as plt\n",
    "\n",
    "x=[0,10,10,50,50,90,90,100]\n",
    "a=10\n",
    "b=50\n",
    "c=90\n",
    "def func(x,a,b,c):\n",
    "    if ((x<a) | (x>=c)):\n",
    "        y=0\n",
    "    if ((a<=x) & (x<b)):\n",
    "         y=(x-a)/(b-a);\n",
    "    if ((b<=x) & (x<=c)):\n",
    "        y=1-(x-b)/(c-b);\n",
    "    return y\n",
    "\n",
    "ftriangulo = np.vectorize(func)\n",
    "plt.plot(x,ftriangulo(x,a,b,c))\n",
    "plt.xlabel('Eje  X')\n",
    "plt.title('Funcion de pertenencia triangular');\n",
    "plt.ylabel('Grado de pertenencia');\n"
   ]
  },
  {
   "cell_type": "code",
   "execution_count": null,
   "metadata": {
    "collapsed": true
   },
   "outputs": [],
   "source": []
  },
  {
   "cell_type": "code",
   "execution_count": null,
   "metadata": {
    "collapsed": true
   },
   "outputs": [],
   "source": []
  }
 ],
 "metadata": {
  "anaconda-cloud": {},
  "kernelspec": {
   "display_name": "Python [Root]",
   "language": "python",
   "name": "Python [Root]"
  },
  "language_info": {
   "codemirror_mode": {
    "name": "ipython",
    "version": 2
   },
   "file_extension": ".py",
   "mimetype": "text/x-python",
   "name": "python",
   "nbconvert_exporter": "python",
   "pygments_lexer": "ipython2",
   "version": "2.7.12"
  }
 },
 "nbformat": 4,
 "nbformat_minor": 0
}
