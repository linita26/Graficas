{
 "cells": [
  {
   "cell_type": "code",
   "execution_count": 7,
   "metadata": {
    "collapsed": false
   },
   "outputs": [
    {
     "data": {
      "text/plain": [
       "<matplotlib.text.Text at 0x8a02048>"
      ]
     },
     "execution_count": 7,
     "metadata": {},
     "output_type": "execute_result"
    },
    {
     "data": {
      "image/png": "[encoded data removed]",
      "text/plain": [
       "<matplotlib.figure.Figure at 0x8856ac8>"
      ]
     },
     "metadata": {},
     "output_type": "display_data"
    }
   ],
   "source": [
    "import numpy as np\n",
    "import matplotlib.pyplot as plt\n",
    "\n",
    "x=[0,20,20,50,50,70]\n",
    "a=20\n",
    "b=50\n",
    "\n",
    "def funh(x,a,b):\n",
    "    if (x<a):\n",
    "        y=1\n",
    "    if (x>=a)&(x<b):\n",
    "         y=1-(x-a)/(b-a);\n",
    "    if (x>=b):\n",
    "        y=0\n",
    "    return y\n",
    "\n",
    "funhombro = np.vectorize(funh)\n",
    "plt.axis([x[0], x[-1], -0.1, 1.5])\n",
    "plt.plot(x,funhombro(x,a,b))\n",
    "plt.xlabel('Grado de pertenencia')\n",
    "plt.title('Funcion de pertenencia hombro izquierdo')"
   ]
  },
  {
   "cell_type": "code",
   "execution_count": null,
   "metadata": {
    "collapsed": true
   },
   "outputs": [],
   "source": []
  }
 ],
 "metadata": {
  "anaconda-cloud": {},
  "kernelspec": {
   "display_name": "Python [Root]",
   "language": "python",
   "name": "Python [Root]"
  },
  "language_info": {
   "codemirror_mode": {
    "name": "ipython",
    "version": 2
   },
   "file_extension": ".py",
   "mimetype": "text/x-python",
   "name": "python",
   "nbconvert_exporter": "python",
   "pygments_lexer": "ipython2",
   "version": "2.7.12"
  }
 },
 "nbformat": 4,
 "nbformat_minor": 0
}
